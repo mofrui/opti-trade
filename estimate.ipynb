{
 "cells": [
  {
   "cell_type": "code",
   "execution_count": null,
   "id": "db52812b",
   "metadata": {},
   "outputs": [],
   "source": [
    "import numpy as np\n",
    "import pandas as pd\n",
    "import joblib\n",
    "from sklearn.linear_model import LinearRegression\n",
    "from sklearn.metrics import(\n",
    "    f1_score,\n",
    "    roc_auc_score,\n",
    "    average_precision_score,\n",
    "    classification_report\n",
    ")\n",
    "\n",
    "nInst = 0\n",
    "nt = 0\n",
    "commRate = 0.0005\n",
    "dlrPosLimit = 10000\n",
    "ins_is = 0"
   ]
  },
  {
   "cell_type": "code",
   "execution_count": 3,
   "id": "9268ba82",
   "metadata": {},
   "outputs": [
    {
     "name": "stdout",
     "output_type": "stream",
     "text": [
      "Loaded 50 instruments for 1000 days\n"
     ]
    }
   ],
   "source": [
    "def loadPrices(fn):\n",
    "    global nt, nInst\n",
    "    df=pd.read_csv(fn, sep=r'\\s+', header=None, index_col=None)\n",
    "    (nt,nInst) = df.shape\n",
    "    return (df.values).T\n",
    "\n",
    "pricesFile=\"./prices.txt\"\n",
    "prcAll = loadPrices(pricesFile)\n",
    "print (\"Loaded %d instruments for %d days\" % (nInst, nt))\n",
    "# prcALL[ins_id]\n",
    "# print(prcAll[0, :].reshape(-1, 1))\n"
   ]
  }
 ],
 "metadata": {
  "kernelspec": {
   "display_name": "MyalGO",
   "language": "python",
   "name": "python3"
  },
  "language_info": {
   "codemirror_mode": {
    "name": "ipython",
    "version": 3
   },
   "file_extension": ".py",
   "mimetype": "text/x-python",
   "name": "python",
   "nbconvert_exporter": "python",
   "pygments_lexer": "ipython3",
   "version": "3.12.11"
  }
 },
 "nbformat": 4,
 "nbformat_minor": 5
}
