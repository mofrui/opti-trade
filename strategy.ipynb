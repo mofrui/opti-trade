{
 "cells": [
  {
   "cell_type": "markdown",
   "metadata": {},
   "source": [
    "# Opti-Trade Algorithm"
   ]
  },
  {
   "cell_type": "code",
   "execution_count": 8,
   "metadata": {},
   "outputs": [],
   "source": [
    "import numpy as np\n",
    "import pandas as pd\n",
    "import matplotlib.pyplot as plt\n",
    "from collections import deque"
   ]
  },
  {
   "cell_type": "code",
   "execution_count": 9,
   "metadata": {},
   "outputs": [
    {
     "name": "stdout",
     "output_type": "stream",
     "text": [
      "Loaded 50 instruments in 1000 days\n"
     ]
    }
   ],
   "source": [
    "def load_prices(fn):\n",
    "    df = pd.read_csv(fn, sep=r'\\s+', header=None)\n",
    "    return df.values.T\n",
    "\n",
    "prices = load_prices(\"prices.txt\")\n",
    "n_inst, nt = prices.shape\n",
    "print(f\"Loaded {n_inst} instruments in {nt} days\")"
   ]
  },
  {
   "cell_type": "code",
   "execution_count": 10,
   "metadata": {},
   "outputs": [],
   "source": [
    "def calc_pl(P, strat, test_days=250, comm_rate=0.0005, pos_limit=10000):\n",
    "    n_inst, nt = P.shape\n",
    "    cash, pos, tot_vol, value = 0.0, np.zeros(n_inst), 0.0, 0.0\n",
    "    daily_pl = []\n",
    "    start = nt + 1 - test_days\n",
    "    for t in range(start, nt+1):\n",
    "        hist = P[:,:t]\n",
    "        price = hist[:,-1]\n",
    "        if t<nt:\n",
    "            targ = strat.get_position(hist)\n",
    "            lims = (pos_limit/price).astype(int)\n",
    "            newp = np.clip(targ, -lims, lims)\n",
    "            delta = newp - pos\n",
    "            dv = (price*np.abs(delta)).sum()\n",
    "            tot_vol += dv\n",
    "            cash -= price.dot(delta) + dv*comm_rate\n",
    "            pos = newp\n",
    "        val = cash + pos.dot(price)\n",
    "        if t>start:\n",
    "            pl = val - value\n",
    "            daily_pl.append(pl)\n",
    "        value = val\n",
    "    arr = np.array(daily_pl)\n",
    "    mu, sd = arr.mean(), arr.std()\n",
    "    sharpe = np.sqrt(249)*mu/sd if sd>0 else 0\n",
    "    return {\"mean_pl\":mu, \"std_pl\":sd, \"sharpe\":sharpe, \"volume\":tot_vol,\n",
    "            \"score\":mu - 0.1*sd}\n"
   ]
  },
  {
   "cell_type": "markdown",
   "metadata": {},
   "source": [
    "## Dual Moving-Average with Volatility Control"
   ]
  },
  {
   "cell_type": "code",
   "execution_count": null,
   "metadata": {},
   "outputs": [],
   "source": [
    "class TrendStrategy:\n",
    "    def __init__(self,\n",
    "                 n_inst,\n",
    "                 short_w=7, long_w=31,\n",
    "                 confirm_d=3,\n",
    "                 cap_per_tick=10000,\n",
    "                 thresh_diff=0.003,\n",
    "                 atr_window=20):\n",
    "        self.n_inst = n_inst\n",
    "        self.short_w, self.long_w = short_w, long_w\n",
    "        self.confirm_d = confirm_d\n",
    "        self.cap_per_tick = cap_per_tick\n",
    "        self.thresh_diff = thresh_diff\n",
    "        self.atr_window = atr_window\n",
    "\n",
    "        self.current_pos = np.zeros(n_inst, int)\n",
    "        self.signals_hist = deque(maxlen=confirm_d)\n",
    "        self.prev_conf   = np.zeros(n_inst, int)\n",
    "\n",
    "    def _compute_atr(self, P):\n",
    "        w = self.atr_window\n",
    "        if P.shape[1] < w+1: return np.zeros(self.n_inst)\n",
    "        H, L = P[:,-w:].max(1), P[:,-w:].min(1)\n",
    "        prev = P[:,-w-1:-1][:,-1]\n",
    "        tr = np.maximum.reduce([H-L, np.abs(H-prev), np.abs(L-prev)])\n",
    "        return tr\n",
    "\n",
    "    def _compute_ma_diff(self, P):\n",
    "        sma = P[:,-self.short_w:].mean(1)\n",
    "        lma = P[:,-self.long_w:].mean(1)\n",
    "        return (sma - lma) / lma\n",
    "\n",
    "    def _raw_signal(self, ma_diff, atr):\n",
    "        sig = np.zeros(self.n_inst, int)\n",
    "        sig[ma_diff> self.thresh_diff] =  1\n",
    "        sig[ma_diff< -self.thresh_diff] = -1\n",
    "        med = np.median(atr)\n",
    "        return sig * (atr>med).astype(int)\n",
    "\n",
    "    def _confirm(self, raw):\n",
    "        self.signals_hist.append(raw)\n",
    "        if len(self.signals_hist)<self.confirm_d:\n",
    "            return self.prev_conf.copy()\n",
    "        H = np.stack(self.signals_hist)\n",
    "        keep = H.all(axis=0)==raw\n",
    "        confirmed = np.where(keep, raw, self.prev_conf)\n",
    "        self.prev_conf = confirmed.copy()\n",
    "        return confirmed\n",
    "\n",
    "    def get_position(self, P):\n",
    "        _, t = P.shape\n",
    "        if t<self.long_w+1: return self.current_pos.copy()\n",
    "        md  = self._compute_ma_diff(P)\n",
    "        atr = self._compute_atr(P)\n",
    "        raw = self._raw_signal(md, atr)\n",
    "        sig = self._confirm(raw)\n",
    "        latest = P[:,-1]\n",
    "        max_sh = np.floor(self.cap_per_tick/latest).astype(int)\n",
    "        self.current_pos = sig * max_sh\n",
    "        return self.current_pos.copy()"
   ]
  },
  {
   "cell_type": "code",
   "execution_count": null,
   "metadata": {},
   "outputs": [],
   "source": []
  }
 ],
 "metadata": {
  "kernelspec": {
   "display_name": "opti-trade",
   "language": "python",
   "name": "python3"
  },
  "language_info": {
   "codemirror_mode": {
    "name": "ipython",
    "version": 3
   },
   "file_extension": ".py",
   "mimetype": "text/x-python",
   "name": "python",
   "nbconvert_exporter": "python",
   "pygments_lexer": "ipython3",
   "version": "3.12.11"
  }
 },
 "nbformat": 4,
 "nbformat_minor": 2
}
